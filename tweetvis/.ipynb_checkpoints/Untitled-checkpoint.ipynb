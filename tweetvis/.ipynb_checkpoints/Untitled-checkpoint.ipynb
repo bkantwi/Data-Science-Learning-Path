{
 "cells": [
  {
   "cell_type": "markdown",
   "id": "add900eb",
   "metadata": {},
   "source": [
    "### SENTIMENT ANALYSIS "
   ]
  },
  {
   "cell_type": "code",
   "execution_count": 6,
   "id": "a55d592b",
   "metadata": {},
   "outputs": [],
   "source": [
    "#IMPORTING LIBRARIES\n",
    "\n",
    "import pandas as pd\n",
    "import numpy as np\n",
    "import re\n",
    "import tweepy\n",
    "import textblob as TextBlob\n",
    "import wordcloud as WordCloud\n",
    "import matplotlib.pyplot as plt\n",
    "plt.style.use('fivethirtyeight')"
   ]
  },
  {
   "cell_type": "code",
   "execution_count": 12,
   "id": "49929440",
   "metadata": {},
   "outputs": [],
   "source": [
    "#import csv file containing keys\n",
    "df = pd.read_csv('env.csv')"
   ]
  },
  {
   "cell_type": "code",
   "execution_count": 14,
   "id": "2f5f9dae",
   "metadata": {},
   "outputs": [],
   "source": [
    "#API details\n",
    "consumerKey = df['KEYS'][0]\n",
    "consumerSecret = df['KEYS'][1]\n",
    "accessToken = df['KEYS'][2]\n",
    "accessTokenSecret = df['KEYS'][3]"
   ]
  },
  {
   "cell_type": "code",
   "execution_count": 16,
   "id": "c77fa197",
   "metadata": {},
   "outputs": [],
   "source": [
    "#Auth object\n",
    "auth = tweepy.OAuthHandler(consumerKey, consumerSecret)\n",
    "\n",
    "#access token and secret\n",
    "auth.set_access_token(accessToken, accessTokenSecret)\n",
    "\n",
    "#create the API object while parsing in the auth info\n",
    "api = tweepy.API(auth, wait_on_rate_limit= True)"
   ]
  },
  {
   "cell_type": "code",
   "execution_count": 21,
   "id": "ee6d2bf2",
   "metadata": {},
   "outputs": [
    {
     "name": "stderr",
     "output_type": "stream",
     "text": [
      "Unexpected parameter: lang\n"
     ]
    },
    {
     "name": "stdout",
     "output_type": "stream",
     "text": [
      "5 recent tweets: \n",
      "\n",
      "1)RT @LiamKircher: 22 sentences that will further your career more than a Harvard MBA:\n",
      "\n",
      "2)RT @ChrisStaud: Data science is in high demand, but the competition is tough.\n",
      "\n",
      "Here's a dead-simple guide to landing your first Data Scienc…\n",
      "\n",
      "3)RT @Kynsofficial: Free courses for beginners in Tech, A Thread \n",
      "\n",
      "Retweet and Open\n",
      "\n",
      "4)RT @unusual_whales: Elon Musk fired this Twitter employee on Twitter. https://t.co/1Zh8N5nkdM\n",
      "\n",
      "5)RT @NikkiSiapno: Stop wasting time coding everything from scratch. \n",
      "\n",
      "Here are 7 free no-code tools top programmers use to build faster:\n",
      "\n"
     ]
    }
   ],
   "source": [
    "#extract 100 tweets from user account\n",
    "posts = api.user_timeline(screen_name = \"BernardAntwi11\", count=100, lang = \"en\", tweet_mode=\"extended\")\n",
    "\n",
    "#last 5 tweets from user\n",
    "print(\"5 recent tweets: \\n\")\n",
    "\n",
    "i=1\n",
    "\n",
    "for tweet in posts[0:5]:\n",
    "    print(str(i) + ') ' + tweet.full_text + '\\n')\n",
    "    i += 1"
   ]
  },
  {
   "cell_type": "code",
   "execution_count": null,
   "id": "0c3685bd",
   "metadata": {},
   "outputs": [],
   "source": []
  }
 ],
 "metadata": {
  "kernelspec": {
   "display_name": "Python 3 (ipykernel)",
   "language": "python",
   "name": "python3"
  },
  "language_info": {
   "codemirror_mode": {
    "name": "ipython",
    "version": 3
   },
   "file_extension": ".py",
   "mimetype": "text/x-python",
   "name": "python",
   "nbconvert_exporter": "python",
   "pygments_lexer": "ipython3",
   "version": "3.9.7"
  }
 },
 "nbformat": 4,
 "nbformat_minor": 5
}
