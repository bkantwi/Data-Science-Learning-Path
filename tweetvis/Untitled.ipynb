{
 "cells": [
  {
   "cell_type": "markdown",
   "id": "ccf31c6d",
   "metadata": {},
   "source": [
    "### SENTIMENT ANALYSIS "
   ]
  },
  {
   "cell_type": "code",
   "execution_count": 6,
   "id": "a721fa39",
   "metadata": {},
   "outputs": [],
   "source": [
    "#IMPORTING LIBRARIES\n",
    "\n",
    "import pandas as pd\n",
    "import numpy as np\n",
    "import re\n",
    "import tweepy\n",
    "import textblob as TextBlob\n",
    "import wordcloud as WordCloud\n",
    "import matplotlib.pyplot as plt\n",
    "plt.style.use('fivethirtyeight')"
   ]
  },
  {
   "cell_type": "code",
   "execution_count": 12,
   "id": "532c9cae",
   "metadata": {},
   "outputs": [],
   "source": [
    "#import csv file containing keys\n",
    "df = pd.read_csv('env.csv')"
   ]
  },
  {
   "cell_type": "code",
   "execution_count": 14,
   "id": "e48ca925",
   "metadata": {},
   "outputs": [],
   "source": [
    "#API details\n",
    "consumerKey = df['KEYS'][0]\n",
    "consumerSecret = df['KEYS'][1]\n",
    "accessToken = df['KEYS'][2]\n",
    "accessTokenSecret = df['KEYS'][3]"
   ]
  },
  {
   "cell_type": "code",
   "execution_count": 16,
   "id": "329f7aff",
   "metadata": {},
   "outputs": [],
   "source": [
    "#Auth object\n",
    "auth = tweepy.OAuthHandler(consumerKey, consumerSecret)\n",
    "\n",
    "#access token and secret\n",
    "auth.set_access_token(accessToken, accessTokenSecret)\n",
    "\n",
    "#create the API object while parsing in the auth info\n",
    "api = tweepy.API(auth, wait_on_rate_limit= True)"
   ]
  },
  {
   "cell_type": "code",
   "execution_count": 17,
   "id": "48d138b6",
   "metadata": {},
   "outputs": [
    {
     "name": "stderr",
     "output_type": "stream",
     "text": [
      "Unexpected parameter: lang\n"
     ]
    },
    {
     "name": "stdout",
     "output_type": "stream",
     "text": [
      "5 recent tweets: \n",
      "\n",
      "In order to solve our world’s sanitation crisis, we need smarter toilets that don’t rely on sewage systems and prevent the spread of diseases. #WorldToiletDay https://t.co/gbp9F0GxlE\n",
      "\n",
      "Collaboration and more open access to data have made seemingly impossible health breakthroughs a reality, like COVID-19 vaccines. @AlzData is putting the power of data behind one of our most critical health challenges. https://t.co/Qtatf2WMds\n",
      "\n",
      "From decreasing maternal mortality to lowering rates of vaccine-preventable diseases, @WendoAszed is a true hero in her community. https://t.co/tuAz440QNx\n",
      "\n",
      "Africa has always been at the heart of our foundation’s mission. Today, we are announcing our commitment of $7 billion over the next 4 years for the development of more breakthrough innovations in health and agriculture across the continent. https://t.co/imh57I2hdg\n",
      "\n",
      "@Amref_Worldwide is doing great things for health within Kenya and across Africa thanks to the leadership of @daktari1. It was a pleasure to meet with you. https://t.co/qTDcW0N0hF\n",
      "\n"
     ]
    }
   ],
   "source": [
    "#extract 100 tweets from user account\n",
    "posts = api.user_timeline(screen_name = \"BillGates\", count=100, lang = \"en\", tweet_mode=\"extended\")\n",
    "\n",
    "#last 5 tweets from user\n",
    "print(\"5 recent tweets: \\n\")\n",
    "for tweet in posts[0:5]:\n",
    "    print(tweet.full_text + '\\n')"
   ]
  },
  {
   "cell_type": "code",
   "execution_count": null,
   "id": "c2eec08c",
   "metadata": {},
   "outputs": [],
   "source": []
  }
 ],
 "metadata": {
  "kernelspec": {
   "display_name": "Python 3 (ipykernel)",
   "language": "python",
   "name": "python3"
  },
  "language_info": {
   "codemirror_mode": {
    "name": "ipython",
    "version": 3
   },
   "file_extension": ".py",
   "mimetype": "text/x-python",
   "name": "python",
   "nbconvert_exporter": "python",
   "pygments_lexer": "ipython3",
   "version": "3.9.7"
  }
 },
 "nbformat": 4,
 "nbformat_minor": 5
}
