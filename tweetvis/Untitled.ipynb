{
 "cells": [
  {
   "cell_type": "markdown",
   "id": "1f879fec",
   "metadata": {},
   "source": [
    "### SENTIMENT ANALYSIS "
   ]
  },
  {
   "cell_type": "code",
   "execution_count": 6,
   "id": "12df8bb9",
   "metadata": {},
   "outputs": [],
   "source": [
    "#IMPORTING LIBRARIES\n",
    "\n",
    "import pandas as pd\n",
    "import numpy as np\n",
    "import re\n",
    "import tweepy\n",
    "import textblob as TextBlob\n",
    "import wordcloud as WordCloud\n",
    "import matplotlib.pyplot as plt\n",
    "plt.style.use('fivethirtyeight')"
   ]
  },
  {
   "cell_type": "code",
   "execution_count": 12,
   "id": "d2098b37",
   "metadata": {},
   "outputs": [],
   "source": [
    "#import csv file containing keys\n",
    "df = pd.read_csv('env.csv')"
   ]
  },
  {
   "cell_type": "code",
   "execution_count": 14,
   "id": "0721b5ed",
   "metadata": {},
   "outputs": [],
   "source": [
    "#API details\n",
    "consumerKey = df['KEYS'][0]\n",
    "consumerSecret = df['KEYS'][1]\n",
    "accessToken = df['KEYS'][2]\n",
    "accessTokenSecret = df['KEYS'][3]"
   ]
  },
  {
   "cell_type": "code",
   "execution_count": null,
   "id": "47a44cef",
   "metadata": {},
   "outputs": [],
   "source": [
    "#Auth object\n",
    "auth = tweepy.OAuthHandler(consumerKey, consumerSecret)\n",
    "\n",
    "#access token and secret\n",
    "auth.set_access_token(accessToken, accessTokenSecret)\n",
    "\n"
   ]
  }
 ],
 "metadata": {
  "kernelspec": {
   "display_name": "Python 3 (ipykernel)",
   "language": "python",
   "name": "python3"
  },
  "language_info": {
   "codemirror_mode": {
    "name": "ipython",
    "version": 3
   },
   "file_extension": ".py",
   "mimetype": "text/x-python",
   "name": "python",
   "nbconvert_exporter": "python",
   "pygments_lexer": "ipython3",
   "version": "3.9.7"
  }
 },
 "nbformat": 4,
 "nbformat_minor": 5
}
